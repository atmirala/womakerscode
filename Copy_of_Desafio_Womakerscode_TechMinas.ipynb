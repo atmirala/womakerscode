{
  "nbformat": 4,
  "nbformat_minor": 0,
  "metadata": {
    "colab": {
      "provenance": [],
      "collapsed_sections": [],
      "toc_visible": true,
      "include_colab_link": true
    },
    "kernelspec": {
      "name": "python3",
      "display_name": "Python 3"
    },
    "language_info": {
      "name": "python"
    }
  },
  "cells": [
    {
      "cell_type": "markdown",
      "metadata": {
        "id": "view-in-github",
        "colab_type": "text"
      },
      "source": [
        "<a href=\"https://colab.research.google.com/github/atmirala/womakerscode/blob/master/Copy_of_Desafio_Womakerscode_TechMinas.ipynb\" target=\"_parent\"><img src=\"https://colab.research.google.com/assets/colab-badge.svg\" alt=\"Open In Colab\"/></a>"
      ]
    },
    {
      "cell_type": "markdown",
      "source": [
        "### Bem vindas ao desafio de python do bootcamp Tech Minas da WoMakersCode!\n",
        "Neste notebook, voce deve escrever o codigo python em resposta à cada uma das perguntas. Esteja atenta ao enunciado do problema!\n"
      ],
      "metadata": {
        "id": "Z55f1u4p4oHu"
      }
    },
    {
      "cell_type": "markdown",
      "source": [
        "### Desafio 1\n",
        "Escreva uma função em python que lê dois números inteiros (a,b) e gere como resultado as seguintes operações:adição, subtração, multiplicação e divisão. Execute a funçao na celula abaixo, deixando visivel exemplos de resultados.\n"
      ],
      "metadata": {
        "id": "oFGdIzuu5W7b"
      }
    },
    {
      "cell_type": "code",
      "source": [
        "##### ESCREVER A FUNÇAO ABAIXO\n",
        "def operations(a,b):\n",
        "    addition = a + b\n",
        "    subtraction = a - b\n",
        "    multiplication = a * b\n",
        "    division = a / b\n",
        "\n",
        "    dictionary = {\n",
        "      \"Primeiro número\":a,\n",
        "      \"Segundo número\":b,\n",
        "      \"Resultado adição\":addition,\n",
        "      \"Resultado subtração\":subtraction,\n",
        "      \"Resultado multiplicação\":multiplication,\n",
        "      \"Resultado divisão\":division\n",
        "    }\n",
        "\n",
        "    return dictionary"
      ],
      "metadata": {
        "id": "LzCl-VH14t4a"
      },
      "execution_count": 13,
      "outputs": []
    },
    {
      "cell_type": "code",
      "source": [
        "#### RODAR A FUNÇAO\n",
        "num1 = float(input(\"Digite o primeiro número: \"))\n",
        "num2 = float(input(\"Digite o segundo número: \"))\n",
        "\n",
        "resultados = operations(num1,num2)\n",
        "print(resultados)"
      ],
      "metadata": {
        "colab": {
          "base_uri": "https://localhost:8080/"
        },
        "id": "Iy5ypYtIPB3U",
        "outputId": "a0596578-e8f8-4afe-b28f-b46a8d377c89"
      },
      "execution_count": 14,
      "outputs": [
        {
          "output_type": "stream",
          "name": "stdout",
          "text": [
            "Digite o primeiro número: 10\n",
            "Digite o segundo número: 2\n",
            "{'Primeiro número': 10.0, 'Segundo número': 2.0, 'Resultado adição': 12.0, 'Resultado subtração': 8.0, 'Resultado multiplicação': 20.0, 'Resultado divisão': 5.0}\n"
          ]
        }
      ]
    },
    {
      "cell_type": "markdown",
      "source": [
        "### Desafio 2\n",
        "Escreva uma função em python que leia como input uma idade e retorne a classificaçao da ideade do individuo da seguinte forma em:\n",
        "\n",
        "*  Criança – 0 a 12 anos\n",
        "*  Adolescente – 13 a 17 anos\n",
        "*  Adulto – acima de 18 anos\n",
        "\n",
        "\n",
        "Se a idade for um número negativo, mostrar a mensagem que a \"idade inválida\"\n",
        "\n"
      ],
      "metadata": {
        "id": "m_tFtRo5581u"
      }
    },
    {
      "cell_type": "code",
      "source": [
        "##### ESCREVER A FUNCAO ABAIXO\n",
        "def classifica_idade(idade):\n",
        "    if idade >= 0 and idade <= 12:\n",
        "        print(\"Criança\")\n",
        "    elif idade >= 13 and idade <= 17:\n",
        "        print(\"Adolescente\")\n",
        "    elif idade >= 18:\n",
        "        print(\"Adulto\")\n",
        "    else:\n",
        "        print(\"idade inválida\")"
      ],
      "metadata": {
        "id": "cL-OpHGv6hyc"
      },
      "execution_count": 11,
      "outputs": []
    },
    {
      "cell_type": "code",
      "source": [
        "#### RODAR A FUNCAO\n",
        "idade_digitada = int(input(\"Digite a tua idade: \"))\n",
        "\n",
        "classifica_idade(idade_digitada)"
      ],
      "metadata": {
        "colab": {
          "base_uri": "https://localhost:8080/"
        },
        "id": "UB0BPQQIPc2_",
        "outputId": "49ed2e0e-79d4-4cf6-f737-c25b4c1a16a5"
      },
      "execution_count": 12,
      "outputs": [
        {
          "output_type": "stream",
          "name": "stdout",
          "text": [
            "Digite a tua idade: 40\n",
            "Adulto\n"
          ]
        }
      ]
    },
    {
      "cell_type": "markdown",
      "source": [
        "### Desafio 3\n",
        "Crie uma função em python que receba como input um determinado horário em horas e retorne a conversao deste horário para segundos\n"
      ],
      "metadata": {
        "id": "wIGGNN_v60s4"
      }
    },
    {
      "cell_type": "code",
      "source": [
        "##### ESCREVER A FUNCAO ABAIXO\n",
        "def time_converter(t):\n",
        "    return t * 3600\n"
      ],
      "metadata": {
        "id": "JOF_tcax7ABd"
      },
      "execution_count": 17,
      "outputs": []
    },
    {
      "cell_type": "code",
      "source": [
        "#### RODAR A FUNCAO\n",
        "hours = float(input(\"Digite um horário em horas: \"))\n",
        "\n",
        "seconds = time_converter(hours)\n",
        "\n",
        "print(\"Em segundos = \" , seconds)"
      ],
      "metadata": {
        "colab": {
          "base_uri": "https://localhost:8080/"
        },
        "id": "MQw6B7lXQezQ",
        "outputId": "48b2f7c2-46a5-4f75-b1fc-edbee4a7f3b4"
      },
      "execution_count": 18,
      "outputs": [
        {
          "output_type": "stream",
          "name": "stdout",
          "text": [
            "Digite um horário em horas: 5\n",
            "Em segundos =  18000.0\n"
          ]
        }
      ]
    },
    {
      "cell_type": "markdown",
      "source": [
        "### Desafio 4\n",
        "Crie uma função em python que calcule a média artimética de uma aluna que cursou a disciplina de Programação I. A funcao deve receber como input as notas M1, M2 e M3 e calcular a média. Após a média calculada, a funcao deve anunciar se a aluna foi aprovado, reprovado ou pegou exame de acordo conm a seguinte classificacao:\n",
        "\n",
        "* Se a média estiver entre 0.0 e 4.0, o aluno está reprovado\n",
        "* Se a média estiver entre 4.1 e 6.0, o aluno pegou exame\n",
        "* Se a média for maior do que 6.0, o aluno está aprovado\n",
        "* Se o aluno pegou exame, deve ser lida a nota do exame. Se a nota do exame for maior do que 6.0, está aprovado, senão; está reprovado\n"
      ],
      "metadata": {
        "id": "RCrTUh1E7OWn"
      }
    },
    {
      "cell_type": "code",
      "source": [
        "##### ESCREVER A FUNCAO ABAIXO\n",
        "def calcula_media(M1,M2,M3):\n",
        "  sum = M1 + M2 + M3  \n",
        "  avg = sum / 3\n",
        "\n",
        "  if avg > 6:\n",
        "    print('Aprovada')\n",
        "  elif avg >= 4.1 and avg <= 6:\n",
        "    print('Pegou exame')\n",
        "    nota_exame = float(input('Informe a nota do exame: '))\n",
        "    if nota_exame > 6:\n",
        "      print('Agora passou')\n",
        "    else:\n",
        "      print('Repetiu de ano') \n",
        "  else:\n",
        "    print('Reprovada')\n",
        "\n"
      ],
      "metadata": {
        "id": "VzNdyWZE70oc"
      },
      "execution_count": 19,
      "outputs": []
    },
    {
      "cell_type": "code",
      "source": [
        "#### RODAR A FUNCAO\n",
        "nota1 = float(input('Informe a nota 1: '))\n",
        "nota2 = float(input('Informe a nota 2: '))\n",
        "nota3 = float(input('Informe a nota 3: '))\n",
        "\n",
        "calcula_media(nota1, nota2, nota3)"
      ],
      "metadata": {
        "colab": {
          "base_uri": "https://localhost:8080/"
        },
        "id": "o8Lq8OOJQmsx",
        "outputId": "fbd5b188-df62-47a5-d0c6-233bd42b6ed9"
      },
      "execution_count": 20,
      "outputs": [
        {
          "output_type": "stream",
          "name": "stdout",
          "text": [
            "Informe a nota 1: 5\n",
            "Informe a nota 2: 5\n",
            "Informe a nota 3: 5\n",
            "Pegou exame\n",
            "Informe a nota do exame: 5\n",
            "Repetiu de ano\n"
          ]
        }
      ]
    },
    {
      "cell_type": "markdown",
      "source": [
        "### Desafio 5\n",
        "Dado a seguinte lista: \n",
        "* equipes_bootcamp_dados = [BerthaLutz, GraceHopper, JaquelineGoes, SarahGilbert]\n",
        "\n",
        "1. Crie uma função em python que conte quantas vezes aparece a letra a em cada elemento da lista. Seu resultado deve ser uma lista . exemplo: [4,0,1,2]\n",
        "\n",
        "2. Leia a lista de alunas: ['Maria', 'Ana','Camila','Mariana','Elaine','Patricia','Marina','Erica','Larissa','Luiza', 'Nicole','Bruna']\n",
        "\n",
        "3. Crie uma função que atribua cada uma das alunas em uma das equipes da lista equipes_bootcamp_dados, de modo que cada equipe pode ter 3 alunas no máximo.\n",
        "\n",
        " Para isso ordene em alfabética. O seu resultado deve ser um dicionário python. exemplo {'BerthaLutz': ['Ana', 'Bruna', 'Camila'], 'GraceHopper': ['Elaine','Erika','Luiza'],... }\n"
      ],
      "metadata": {
        "id": "eI9AkpYT788b"
      }
    },
    {
      "cell_type": "code",
      "source": [
        "##### ESCREVER A FUNCAO DA ETAPA 1\n",
        "def contador(equipes_bootcamp_dados):\n",
        "    lista = []\n",
        "    for equipe in equipes_bootcamp_dados:\n",
        "        i = 0\n",
        "        for letra in equipe:\n",
        "            if letra == 'a' or letra == 'A':\n",
        "                i = i + 1\n",
        "        lista.append(i)\n",
        "    return lista"
      ],
      "metadata": {
        "id": "Zk6U7KnL8WBd"
      },
      "execution_count": 2,
      "outputs": []
    },
    {
      "cell_type": "code",
      "source": [
        "###### RODAR A ETAPA 1\n",
        "equipes_bootcamp_dados = ['BerthaLutz', 'GraceHopper', 'JaquelineGoes', 'SarahGilbert']\n",
        "print(equipes_bootcamp_dados)\n",
        "print(contador(equipes_bootcamp_dados))"
      ],
      "metadata": {
        "id": "snTgwxt_8hcj",
        "colab": {
          "base_uri": "https://localhost:8080/"
        },
        "outputId": "22e994a0-35a7-41b9-a993-e6cb5fb48f21"
      },
      "execution_count": 3,
      "outputs": [
        {
          "output_type": "stream",
          "name": "stdout",
          "text": [
            "['BerthaLutz', 'GraceHopper', 'JaquelineGoes', 'SarahGilbert']\n",
            "[1, 1, 1, 2]\n"
          ]
        }
      ]
    },
    {
      "cell_type": "code",
      "source": [
        "##### LER A ETAPA 2\n",
        "alunas = ['Maria','Ana','Camila','Mariana','Elaine','Patricia','Marina','Erica','Larissa','Luiza', 'Nicole','Bruna']\n",
        "print(alunas)"
      ],
      "metadata": {
        "id": "xgkMVykO8jB-",
        "colab": {
          "base_uri": "https://localhost:8080/"
        },
        "outputId": "21e3d668-a5e7-4199-d723-37b267497e1c"
      },
      "execution_count": 4,
      "outputs": [
        {
          "output_type": "stream",
          "name": "stdout",
          "text": [
            "['Maria', 'Ana', 'Camila', 'Mariana', 'Elaine', 'Patricia', 'Marina', 'Erica', 'Larissa', 'Luiza', 'Nicole', 'Bruna']\n"
          ]
        }
      ]
    },
    {
      "cell_type": "code",
      "source": [
        "##### ESCREVER A FUNCAO DA ETAPA 3\n",
        "def ordenacao(lista_alunas, equipes_bootcamp_dados):\n",
        "    lista_alunas.sort()\n",
        "    d = {}\n",
        "    for equipe in equipes_bootcamp_dados:\n",
        "        l = []\n",
        "        for i in range(3):\n",
        "            l.append(lista_alunas.pop(0))\n",
        "        d[equipe] = l\n",
        "    return d"
      ],
      "metadata": {
        "id": "_ySYFooB8jFF"
      },
      "execution_count": 5,
      "outputs": []
    },
    {
      "cell_type": "code",
      "source": [
        "##### RODAR A FUNCAO DA ETAPA 3\n",
        "x = ordenacao(alunas, equipes_bootcamp_dados)\n",
        "print(x)"
      ],
      "metadata": {
        "id": "8qZnUInj9Uvr",
        "colab": {
          "base_uri": "https://localhost:8080/"
        },
        "outputId": "934880ae-810a-4b3c-87de-a3efde643759"
      },
      "execution_count": 6,
      "outputs": [
        {
          "output_type": "stream",
          "name": "stdout",
          "text": [
            "{'BerthaLutz': ['Ana', 'Bruna', 'Camila'], 'GraceHopper': ['Elaine', 'Erica', 'Larissa'], 'JaquelineGoes': ['Luiza', 'Maria', 'Mariana'], 'SarahGilbert': ['Marina', 'Nicole', 'Patricia']}\n"
          ]
        }
      ]
    },
    {
      "cell_type": "markdown",
      "source": [
        "### Desafio 6\n",
        "Escreva uma função em python que leia uma temperatura em graus Celsius e retorne a conversao dela em graus Fahrenheit. \n",
        "\n",
        "A fórmula de conversão é F = (9 * C + 160) / 5, na qual F é a temperatura em Fahrenheit e C é a temperatura em graus Celsius\n",
        "\n",
        "\n"
      ],
      "metadata": {
        "id": "AXoFPjyx82gG"
      }
    },
    {
      "cell_type": "code",
      "source": [
        "##### ESCREVER A FUNCAO\n",
        "def conversor_temperatura(temperatura):\n",
        "    f = (temperatura * 1.8) + 32\n",
        "    return f\n"
      ],
      "metadata": {
        "id": "OsCU2Msu9D9o"
      },
      "execution_count": 15,
      "outputs": []
    },
    {
      "cell_type": "code",
      "source": [
        "#### RODAR A FUNCAO\n",
        "celsius = float(input(\"Digite a temperatura em graus Celsius: \"))\n",
        "\n",
        "fahrenheit = conversor_temperatura(celsius)\n",
        "\n",
        "print(\"%0.1f graus Celsius é equivalente a %0.1f graus Fahrenheit\" %(celsius,fahrenheit))"
      ],
      "metadata": {
        "colab": {
          "base_uri": "https://localhost:8080/"
        },
        "id": "o7So_6pjQplm",
        "outputId": "d0ccf8ae-d17d-4b54-9c6c-bb2622ea068c"
      },
      "execution_count": 16,
      "outputs": [
        {
          "output_type": "stream",
          "name": "stdout",
          "text": [
            "Digite a temperatura em graus Celsius: 30\n",
            "30.0 graus Celsius é equivalente a 86.0 graus Fahrenheit\n"
          ]
        }
      ]
    }
  ]
}