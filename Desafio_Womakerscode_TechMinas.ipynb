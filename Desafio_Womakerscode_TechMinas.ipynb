{
  "nbformat": 4,
  "nbformat_minor": 0,
  "metadata": {
    "colab": {
      "provenance": [],
      "collapsed_sections": [],
      "toc_visible": true,
      "include_colab_link": true
    },
    "kernelspec": {
      "name": "python3",
      "display_name": "Python 3"
    },
    "language_info": {
      "name": "python"
    }
  },
  "cells": [
    {
      "cell_type": "markdown",
      "metadata": {
        "id": "view-in-github",
        "colab_type": "text"
      },
      "source": [
        "<a href=\"https://colab.research.google.com/github/atmirala/womakerscode/blob/master/Desafio_Womakerscode_TechMinas.ipynb\" target=\"_parent\"><img src=\"https://colab.research.google.com/assets/colab-badge.svg\" alt=\"Open In Colab\"/></a>"
      ]
    },
    {
      "cell_type": "markdown",
      "source": [
        "### Bem vindas ao desafio de python do bootcamp Tech Minas da WoMakersCode!\n",
        "Neste notebook, voce deve escrever o codigo python em resposta à cada uma das perguntas. Esteja atenta ao enunciado do problema!\n"
      ],
      "metadata": {
        "id": "Z55f1u4p4oHu"
      }
    },
    {
      "cell_type": "markdown",
      "source": [
        "### Desafio 1\n",
        "Escreva uma função em python que lê dois números inteiros (a,b) e gere como resultado as seguintes operações:adição, subtração, multiplicação e divisão. Execute a funçao na celula abaixo, deixando visivel exemplos de resultados.\n"
      ],
      "metadata": {
        "id": "oFGdIzuu5W7b"
      }
    },
    {
      "cell_type": "code",
      "source": [
        "##### ESCREVER A FUNÇAO ABAIXO\n",
        "def operations(a,b):\n",
        "    addition = a + b\n",
        "    subtraction = a - b\n",
        "    multiplication = a * b\n",
        "    division = a / b\n",
        "\n",
        "    dictionary = {\n",
        "      \"Primeiro número\":a,\n",
        "      \"Segundo número\":b,\n",
        "      \"Resultado adição\":addition,\n",
        "      \"Resultado subtração\":subtraction,\n",
        "      \"Resultado multiplicação\":multiplication,\n",
        "      \"Resultado divisão\":division\n",
        "    }\n",
        "\n",
        "    return dictionary\n",
        "\n",
        "num1 = float(input(\"Digite o primeiro número: \"))\n",
        "num2 = float(input(\"Digite o segundo número: \"))\n",
        "\n",
        "resultados = operations(num1,num2)\n",
        "print(resultados)"
      ],
      "metadata": {
        "id": "LzCl-VH14t4a",
        "colab": {
          "base_uri": "https://localhost:8080/"
        },
        "outputId": "e92b2ede-7e83-47fb-f889-fc00977d0a57"
      },
      "execution_count": 6,
      "outputs": [
        {
          "output_type": "stream",
          "name": "stdout",
          "text": [
            "Digite o primeiro número: 30\n",
            "Digite o segundo número: 3\n",
            "{'Primeiro número': 30.0, 'Segundo número': 3.0, 'Resultado adição': 33.0, 'Resultado subtração': 27.0, 'Resultado multiplicação': 90.0, 'Resultado divisão': 10.0}\n"
          ]
        }
      ]
    },
    {
      "cell_type": "markdown",
      "source": [
        "### Desafio 2\n",
        "Escreva uma função em python que leia como input uma idade e retorne a classificaçao da ideade do individuo da seguinte forma em:\n",
        "\n",
        "*  Criança – 0 a 12 anos\n",
        "*  Adolescente – 13 a 17 anos\n",
        "*  Adulto – acima de 18 anos\n",
        "\n",
        "\n",
        "Se a idade for um número negativo, mostrar a mensagem que a \"idade inválida\"\n",
        "\n"
      ],
      "metadata": {
        "id": "m_tFtRo5581u"
      }
    },
    {
      "cell_type": "code",
      "source": [
        "##### ESCREVER A FUNCAO ABAIXO\n",
        "def classifica_idade(idade):\n",
        "    if idade >= 0 and idade <= 12:\n",
        "        print(\"Criança\")\n",
        "    elif idade >= 13 and idade <= 17:\n",
        "        print(\"Adolescente\")\n",
        "    elif idade >= 18:\n",
        "        print(\"Adulto\")\n",
        "    else:\n",
        "        print(\"idade inválida\")\n",
        "\n",
        "idade_digitada = int(input(\"Digite a tua idade: \"))\n",
        "\n",
        "classifica_idade(idade_digitada)"
      ],
      "metadata": {
        "id": "cL-OpHGv6hyc",
        "colab": {
          "base_uri": "https://localhost:8080/"
        },
        "outputId": "2904414c-4aab-43d5-c3d1-7097589bbabf"
      },
      "execution_count": 4,
      "outputs": [
        {
          "output_type": "stream",
          "name": "stdout",
          "text": [
            "Digite a tua idade: 12\n",
            "Criança\n"
          ]
        }
      ]
    },
    {
      "cell_type": "markdown",
      "source": [
        "### Desafio 3\n",
        "Crie uma função em python que receba como input um determinado horário em horas e retorne a conversao deste horário para segundos\n"
      ],
      "metadata": {
        "id": "wIGGNN_v60s4"
      }
    },
    {
      "cell_type": "code",
      "source": [
        "##### ESCREVER A FUNCAO ABAIXO\n",
        "def time_converter(t):\n",
        "    return t * 3600\n",
        "\n",
        "hours = float(input(\"Digite um horário em horas: \"))\n",
        "\n",
        "seconds = time_converter(hours)\n",
        "\n",
        "print(\"Em segundos = \" , seconds)"
      ],
      "metadata": {
        "id": "JOF_tcax7ABd",
        "colab": {
          "base_uri": "https://localhost:8080/"
        },
        "outputId": "835794a8-70bd-4cb0-8ed5-ef59fa5a4acc"
      },
      "execution_count": 7,
      "outputs": [
        {
          "output_type": "stream",
          "name": "stdout",
          "text": [
            "Digite um horário em horas: 5.5\n",
            "Em segundos =  19800.0\n"
          ]
        }
      ]
    },
    {
      "cell_type": "markdown",
      "source": [
        "### Desafio 4\n",
        "Crie uma função em python que calcule a média artimética de uma aluna que cursou a disciplina de Programação I. A funcao deve receber como input as notas M1, M2 e M3 e calcular a média. Após a média calculada, a funcao deve anunciar se a aluna foi aprovado, reprovado ou pegou exame de acordo conm a seguinte classificacao:\n",
        "\n",
        "* Se a média estiver entre 0.0 e 4.0, o aluno está reprovado\n",
        "* Se a média estiver entre 4.1 e 6.0, o aluno pegou exame\n",
        "* Se a média for maior do que 6.0, o aluno está aprovado\n",
        "* Se o aluno pegou exame, deve ser lida a nota do exame. Se a nota do exame for maior do que 6.0, está aprovado, senão; está reprovado\n"
      ],
      "metadata": {
        "id": "RCrTUh1E7OWn"
      }
    },
    {
      "cell_type": "code",
      "source": [
        "##### ESCREVER A FUNCAO ABAIXO\n",
        "def calcula_media(M1,M2,M3):\n",
        "  sum = M1 + M2 + M3  \n",
        "  avg = sum / 3\n",
        "\n",
        "  if avg > 6:\n",
        "    print('Aprovada')\n",
        "  elif avg >= 4.1 and avg <= 6:\n",
        "    print('Pegou exame')\n",
        "    nota_exame = float(input('Informe a nota do exame: '))\n",
        "    if nota_exame > 6:\n",
        "      print('Agora passou')\n",
        "    else:\n",
        "      print('Repetiu de ano') \n",
        "  else:\n",
        "    print('Reprovada')\n",
        "\n",
        "nota1 = float(input('Informe a nota 1: '))\n",
        "nota2 = float(input('Informe a nota 2: '))\n",
        "nota3 = float(input('Informe a nota 3: '))\n",
        "\n",
        "calcula_media(nota1, nota2, nota3)"
      ],
      "metadata": {
        "id": "VzNdyWZE70oc",
        "colab": {
          "base_uri": "https://localhost:8080/"
        },
        "outputId": "c2c8b36f-d96d-4fc2-8502-7b0c45a31f82"
      },
      "execution_count": 11,
      "outputs": [
        {
          "output_type": "stream",
          "name": "stdout",
          "text": [
            "Informe a nota 1: 5\n",
            "Informe a nota 2: 5\n",
            "Informe a nota 3: 5\n",
            "Pegou exame\n",
            "Informe a nota do exame: 5\n",
            "Repetiu de ano\n"
          ]
        }
      ]
    },
    {
      "cell_type": "markdown",
      "source": [
        "### Desafio 5\n",
        "Dado a seguinte lista: \n",
        "* equipes_bootcamp_dados = [BerthaLutz, GraceHopper, JaquelineGoes, SarahGilbert]\n",
        "\n",
        "1. Crie uma função em python que conte quantas vezes aparece a letra a em cada elemento da lista. Seu resultado deve ser uma lista . exemplo: [4,0,1,2]\n",
        "\n",
        "2. Leia a lista de alunas: ['Maria', 'Ana','Camila','Mariana','Elaine','Patricia','Marina','Erica','Larissa','Luiza', 'Nicole','Bruna']\n",
        "\n",
        "3. Crie uma função que atribua cada uma das alunas em uma das equipes da lista equipes_bootcamp_dados, de modo que cada equipe pode ter 3 alunas no máximo.\n",
        "\n",
        " Para isso ordene em alfabética. O seu resultado deve ser um dicionário python. exemplo {'BerthaLutz': ['Ana', 'Bruna', 'Camila'], 'GraceHopper': ['Elaine','Erika','Luiza'],... }\n"
      ],
      "metadata": {
        "id": "eI9AkpYT788b"
      }
    },
    {
      "cell_type": "code",
      "source": [
        "##### ESCREVER A FUNCAO DA ETAPA 1\n",
        "def contador(equipes_bootcamp_dados):\n",
        "  #### escrever abaixo"
      ],
      "metadata": {
        "id": "Zk6U7KnL8WBd"
      },
      "execution_count": null,
      "outputs": []
    },
    {
      "cell_type": "code",
      "source": [
        "###### RODAR A ETAPA 1"
      ],
      "metadata": {
        "id": "snTgwxt_8hcj"
      },
      "execution_count": null,
      "outputs": []
    },
    {
      "cell_type": "code",
      "source": [
        "##### LER A ETAPA 2"
      ],
      "metadata": {
        "id": "xgkMVykO8jB-"
      },
      "execution_count": null,
      "outputs": []
    },
    {
      "cell_type": "code",
      "source": [
        "##### ESCREVER A FUNCAO DA ETAPA 3\n",
        "def ordenacao(lista_alunas, equipes_bootcamp_dados):\n",
        "  ### escrever abaixo"
      ],
      "metadata": {
        "id": "_ySYFooB8jFF"
      },
      "execution_count": null,
      "outputs": []
    },
    {
      "cell_type": "code",
      "source": [
        "##### RODAR A FUNCAO DA ETAPA 3"
      ],
      "metadata": {
        "id": "8qZnUInj9Uvr"
      },
      "execution_count": null,
      "outputs": []
    },
    {
      "cell_type": "markdown",
      "source": [
        "### Desafio 6\n",
        "Escreva uma função em python que leia uma temperatura em graus Celsius e retorne a conversao dela em graus Fahrenheit. \n",
        "\n",
        "A fórmula de conversão é F = (9 * C + 160) / 5, na qual F é a temperatura em Fahrenheit e C é a temperatura em graus Celsius\n",
        "\n",
        "\n"
      ],
      "metadata": {
        "id": "AXoFPjyx82gG"
      }
    },
    {
      "cell_type": "code",
      "source": [
        "##### ESCREVER A FUNCAO\n",
        "def conversor_temperatura(temperatura):\n",
        "    f = (temperatura * 1.8) + 32\n",
        "    return f\n",
        "\n",
        "celsius = float(input(\"Digite a temperatura em graus Celsius: \"))\n",
        "\n",
        "fahrenheit = conversor_temperatura(celsius)\n",
        "\n",
        "print(\"%0.1f graus Celsius é equivalente a %0.1f graus Fahrenheit\" %(celsius,fahrenheit))"
      ],
      "metadata": {
        "id": "OsCU2Msu9D9o",
        "colab": {
          "base_uri": "https://localhost:8080/"
        },
        "outputId": "c6503b1b-45c7-460b-95f9-a3a863de7c7e"
      },
      "execution_count": 10,
      "outputs": [
        {
          "output_type": "stream",
          "name": "stdout",
          "text": [
            "Digite a temperatura em graus Celsius: 21\n",
            "21.0 graus Celsius é equivalente a 69.8 graus Fahrenheit\n"
          ]
        }
      ]
    }
  ]
}